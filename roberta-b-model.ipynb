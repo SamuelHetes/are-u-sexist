{
 "cells": [
  {
   "cell_type": "code",
   "execution_count": 99,
   "id": "initial_id",
   "metadata": {
    "collapsed": true,
    "ExecuteTime": {
     "end_time": "2024-05-14T23:59:51.278399Z",
     "start_time": "2024-05-14T23:59:51.250640Z"
    }
   },
   "outputs": [],
   "source": [
    "# Import necessary libraries\n",
    "\n",
    "import pandas as pd\n",
    "from sklearn.model_selection import train_test_split\n",
    "import torch"
   ]
  },
  {
   "cell_type": "code",
   "outputs": [],
   "source": [
    "# Load data and set up device\n",
    "\n",
    "data = pd.read_csv('./data/edos-labelled-annotations.csv')\n",
    "device = \"cuda\" if torch.cuda.is_available() else \"mps\" if torch.backends.mps.is_available() else \"cpu\""
   ],
   "metadata": {
    "collapsed": false,
    "ExecuteTime": {
     "end_time": "2024-05-14T23:59:52.208258Z",
     "start_time": "2024-05-14T23:59:52.013213Z"
    }
   },
   "id": "efae964fb92afc15",
   "execution_count": 100
  },
  {
   "cell_type": "code",
   "outputs": [],
   "source": [
    "# Filter data to include only sexist texts and map categories to numerical values\n",
    "sexist_data = data[data['label_sexist'] == 'sexist']\n",
    "\n",
    "category_mapping = {\n",
    "    '1. threats': 0,\n",
    "    '2. derogation': 1,\n",
    "    '3. animosity': 2,\n",
    "    '4. prejudiced discussion': 3\n",
    "}\n",
    "\n",
    "# Extract text and labels, and map labels to numerical values\n",
    "text = list(sexist_data['text'])\n",
    "labels = sexist_data['label_category'].map(category_mapping).values\n",
    "labels = torch.tensor(labels, dtype=torch.long)"
   ],
   "metadata": {
    "collapsed": false,
    "ExecuteTime": {
     "end_time": "2024-05-14T23:59:52.825751Z",
     "start_time": "2024-05-14T23:59:52.741976Z"
    }
   },
   "id": "637518686d10f040",
   "execution_count": 101
  },
  {
   "cell_type": "code",
   "outputs": [],
   "source": [
    "# Split data into training, validation, and test sets\n",
    "\n",
    "train_text, temp_text, train_labels, temp_labels = train_test_split(text, labels, test_size=0.8, random_state=42)\n",
    "valid_text, test_text, valid_labels, test_labels = train_test_split(temp_text, temp_labels, test_size=0.5, random_state=42)"
   ],
   "metadata": {
    "collapsed": false,
    "ExecuteTime": {
     "end_time": "2024-05-14T23:59:53.522951Z",
     "start_time": "2024-05-14T23:59:53.491925Z"
    }
   },
   "id": "86fbc3fd3fd68d61",
   "execution_count": 102
  },
  {
   "cell_type": "code",
   "outputs": [],
   "source": [
    "# Load RoBERTa tokenizer and model\n",
    "\n",
    "from transformers import AutoTokenizer, RobertaForSequenceClassification\n",
    "\n",
    "tokenizer = AutoTokenizer.from_pretrained(\"roberta-base\")\n",
    "model = RobertaForSequenceClassification.from_pretrained(\"roberta-base\", num_labels=len(category_mapping))\n",
    "\n",
    "# Move model to the appropriate device (GPU, MPS, or CPU)\n",
    "model = model.to(device)"
   ],
   "metadata": {
    "collapsed": false,
    "ExecuteTime": {
     "end_time": "2024-05-14T23:59:57.739914Z",
     "start_time": "2024-05-14T23:59:54.234244Z"
    }
   },
   "id": "bd723d0d4313baa5",
   "execution_count": 103
  },
  {
   "cell_type": "code",
   "outputs": [],
   "source": [
    "# Tokenize the data\n",
    "\n",
    "tokenized_train = tokenizer(train_text, truncation=True, padding=True, return_tensors=\"pt\")\n",
    "tokenized_valid = tokenizer(valid_text, truncation=True, padding=True, return_tensors=\"pt\")\n",
    "tokenized_test = tokenizer(test_text, truncation=True, padding=True, return_tensors=\"pt\")"
   ],
   "metadata": {
    "collapsed": false,
    "ExecuteTime": {
     "end_time": "2024-05-15T00:00:00.324148Z",
     "start_time": "2024-05-14T23:59:58.362355Z"
    }
   },
   "id": "59fcff78d2085892",
   "execution_count": 104
  },
  {
   "cell_type": "code",
   "outputs": [],
   "source": [
    "# Define a custom dataset class\n",
    "\n",
    "class CustomDataset(torch.utils.data.Dataset):\n",
    "    def __init__(self, encodings, labels, device):\n",
    "        self.encodings = encodings\n",
    "        self.labels = labels\n",
    "        self.device = device\n",
    "\n",
    "    def __getitem__(self, idx):\n",
    "        item = {key: torch.tensor(val[idx], device=self.device) for key, val in self.encodings.items()}\n",
    "        item['labels'] = torch.tensor(self.labels[idx], device=self.device)\n",
    "        return item\n",
    "\n",
    "    def __len__(self):\n",
    "        return len(self.labels)\n",
    "\n",
    "\n",
    "# Create dataset instances for training, validation, and testing\n",
    "train_data = CustomDataset(tokenized_train, train_labels, device)\n",
    "valid_data = CustomDataset(tokenized_valid, valid_labels, device)\n",
    "test_data = CustomDataset(tokenized_test, test_labels, device)"
   ],
   "metadata": {
    "collapsed": false,
    "ExecuteTime": {
     "end_time": "2024-05-15T00:00:01.586039Z",
     "start_time": "2024-05-15T00:00:01.582676Z"
    }
   },
   "id": "357bf7f62ae8baf1",
   "execution_count": 105
  },
  {
   "cell_type": "code",
   "outputs": [],
   "source": [
    "# Create data loaders\n",
    "\n",
    "from torch.utils.data import DataLoader\n",
    "\n",
    "train_dataloader = DataLoader(train_data, batch_size=8, shuffle=True)\n",
    "valid_dataloader = DataLoader(valid_data, batch_size=8, shuffle=False)\n",
    "test_dataloader = DataLoader(test_data, batch_size=8, shuffle=True)"
   ],
   "metadata": {
    "collapsed": false,
    "ExecuteTime": {
     "end_time": "2024-05-15T00:00:03.158298Z",
     "start_time": "2024-05-15T00:00:02.773827Z"
    }
   },
   "id": "a8ae6cf17d5b3d7b",
   "execution_count": 106
  },
  {
   "cell_type": "code",
   "outputs": [
    {
     "name": "stderr",
     "output_type": "stream",
     "text": [
      "Epoch 1/5 Training:   0%|          | 0/384 [00:00<?, ?it/s]/var/folders/pp/f9mc48911vs717rh_h3szgx80000gn/T/ipykernel_26616/2052345908.py:8: UserWarning: To copy construct from a tensor, it is recommended to use sourceTensor.clone().detach() or sourceTensor.clone().detach().requires_grad_(True), rather than torch.tensor(sourceTensor).\n",
      "  item = {key: torch.tensor(val[idx], device=self.device) for key, val in self.encodings.items()}\n",
      "/var/folders/pp/f9mc48911vs717rh_h3szgx80000gn/T/ipykernel_26616/2052345908.py:9: UserWarning: To copy construct from a tensor, it is recommended to use sourceTensor.clone().detach() or sourceTensor.clone().detach().requires_grad_(True), rather than torch.tensor(sourceTensor).\n",
      "  item['labels'] = torch.tensor(self.labels[idx], device=self.device)\n",
      "                                                                                  \r"
     ]
    },
    {
     "name": "stdout",
     "output_type": "stream",
     "text": [
      "Epoch 1/5 - Train Loss: 1.0151, Val Loss: 0.9619\n"
     ]
    },
    {
     "name": "stderr",
     "output_type": "stream",
     "text": [
      "                                                                                  \r"
     ]
    },
    {
     "name": "stdout",
     "output_type": "stream",
     "text": [
      "Epoch 2/5 - Train Loss: 0.8752, Val Loss: 0.9105\n"
     ]
    },
    {
     "name": "stderr",
     "output_type": "stream",
     "text": [
      "                                                                                  \r"
     ]
    },
    {
     "name": "stdout",
     "output_type": "stream",
     "text": [
      "Epoch 3/5 - Train Loss: 0.7174, Val Loss: 0.9196\n"
     ]
    },
    {
     "name": "stderr",
     "output_type": "stream",
     "text": [
      "                                                                                  \r"
     ]
    },
    {
     "name": "stdout",
     "output_type": "stream",
     "text": [
      "Epoch 4/5 - Train Loss: 0.6774, Val Loss: 0.9528\n"
     ]
    },
    {
     "name": "stderr",
     "output_type": "stream",
     "text": [
      "                                                                                  \r"
     ]
    },
    {
     "name": "stdout",
     "output_type": "stream",
     "text": [
      "Epoch 5/5 - Train Loss: 0.6390, Val Loss: 0.9514\n"
     ]
    }
   ],
   "source": [
    "# Train the model\n",
    "\n",
    "from tqdm import tqdm\n",
    "import torch\n",
    "\n",
    "epochs = 5\n",
    "learning_rate = 1e-5\n",
    "\n",
    "optimizer = torch.optim.AdamW(model.parameters(), lr=learning_rate)\n",
    "scheduler = torch.optim.lr_scheduler.StepLR(optimizer, step_size=2, gamma=0.1)\n",
    "\n",
    "for epoch in range(epochs):\n",
    "    model.train()\n",
    "\n",
    "    total_train_loss = 0\n",
    "    num_batches_train = 0\n",
    "\n",
    "    batch_progress = tqdm(train_dataloader, desc=f'Epoch {epoch + 1}/{epochs} Training', leave=False)\n",
    "\n",
    "    for batch in batch_progress:\n",
    "        inputs = {key: value.to(device) if key != 'labels' else value for key, value in batch.items()}\n",
    "        labels = batch['labels'].to(device)\n",
    "\n",
    "        optimizer.zero_grad()\n",
    "\n",
    "        outputs = model(**inputs)\n",
    "        loss = outputs.loss\n",
    "        loss.backward()\n",
    "\n",
    "        torch.nn.utils.clip_grad_norm_(model.parameters(), max_norm=1.0)\n",
    "        optimizer.step()\n",
    "\n",
    "        total_train_loss += loss.item()\n",
    "        num_batches_train += 1\n",
    "        batch_progress.set_postfix(loss=f'{total_train_loss / num_batches_train:.4f}')\n",
    "\n",
    "    average_train_loss = total_train_loss / num_batches_train\n",
    "\n",
    "    total_validation_loss = 0\n",
    "    num_batches_validation = 0\n",
    "    model.eval()\n",
    "\n",
    "    for batch in valid_dataloader:\n",
    "        with torch.no_grad():\n",
    "            inputs = {key: value.to(device) for key, value in batch.items()}\n",
    "            outputs = model(**inputs)\n",
    "            loss = outputs.loss\n",
    "\n",
    "            total_validation_loss += loss.item()\n",
    "            num_batches_validation += 1\n",
    "\n",
    "    average_validation_loss = total_validation_loss / num_batches_validation\n",
    "\n",
    "    print(f'Epoch {epoch + 1}/{epochs} - Train Loss: {average_train_loss:.4f}, Val Loss: {average_validation_loss:.4f}')\n",
    "\n",
    "    scheduler.step()"
   ],
   "metadata": {
    "collapsed": false,
    "ExecuteTime": {
     "end_time": "2024-05-15T00:12:37.754277Z",
     "start_time": "2024-05-15T00:00:03.823613Z"
    }
   },
   "id": "447ee603e859adff",
   "execution_count": 107
  },
  {
   "cell_type": "code",
   "outputs": [
    {
     "name": "stderr",
     "output_type": "stream",
     "text": [
      "Testing:   0%|          | 0/767 [00:00<?, ?it/s]/var/folders/pp/f9mc48911vs717rh_h3szgx80000gn/T/ipykernel_26616/2052345908.py:8: UserWarning: To copy construct from a tensor, it is recommended to use sourceTensor.clone().detach() or sourceTensor.clone().detach().requires_grad_(True), rather than torch.tensor(sourceTensor).\n",
      "  item = {key: torch.tensor(val[idx], device=self.device) for key, val in self.encodings.items()}\n",
      "/var/folders/pp/f9mc48911vs717rh_h3szgx80000gn/T/ipykernel_26616/2052345908.py:9: UserWarning: To copy construct from a tensor, it is recommended to use sourceTensor.clone().detach() or sourceTensor.clone().detach().requires_grad_(True), rather than torch.tensor(sourceTensor).\n",
      "  item['labels'] = torch.tensor(self.labels[idx], device=self.device)\n",
      "                                                          \r"
     ]
    },
    {
     "name": "stdout",
     "output_type": "stream",
     "text": [
      "Test Loss: 0.9436\n",
      "Accuracy: 0.5846\n"
     ]
    },
    {
     "data": {
      "text/plain": "<Figure size 640x480 with 2 Axes>",
      "image/png": "[encoded data removed]"
     },
     "metadata": {},
     "output_type": "display_data"
    }
   ],
   "source": [
    "# Test the model and evaluate performance\n",
    "\n",
    "import torch\n",
    "from tqdm import tqdm\n",
    "from sklearn.metrics import accuracy_score, confusion_matrix, ConfusionMatrixDisplay\n",
    "import matplotlib.pyplot as plt\n",
    "\n",
    "true_labels = []\n",
    "predicted_labels = []\n",
    "\n",
    "model.eval()\n",
    "\n",
    "total_test_loss = 0\n",
    "num_batches_test = 0\n",
    "\n",
    "test_progress_bar = tqdm(test_dataloader, desc=f'Testing', leave=False)\n",
    "\n",
    "for batch in test_progress_bar:\n",
    "    with torch.no_grad():\n",
    "        inputs = {key: value.to(device) for key, value in batch.items()}\n",
    "        outputs = model(**inputs)\n",
    "        loss = outputs.loss\n",
    "\n",
    "        total_test_loss += loss.item()\n",
    "        num_batches_test += 1\n",
    "\n",
    "        true_labels.extend(batch['labels'].cpu().numpy())\n",
    "        predicted_labels.extend(outputs.logits.argmax(dim=1).cpu().numpy())\n",
    "\n",
    "average_test_loss = total_test_loss / num_batches_test\n",
    "test_progress_bar.set_postfix({'test_loss': average_test_loss}, refresh=True)\n",
    "\n",
    "accuracy = accuracy_score(true_labels, predicted_labels)\n",
    "\n",
    "print(f'Test Loss: {average_test_loss:.4f}')\n",
    "print(f'Accuracy: {accuracy:.4f}')\n",
    "\n",
    "# Display confusion matrix\n",
    "cm = confusion_matrix(true_labels, predicted_labels)\n",
    "disp = ConfusionMatrixDisplay(confusion_matrix=cm)\n",
    "disp.plot(cmap=plt.cm.Blues)\n",
    "plt.title('Confusion Matrix')\n",
    "plt.show()"
   ],
   "metadata": {
    "collapsed": false,
    "ExecuteTime": {
     "end_time": "2024-05-15T00:14:01.570210Z",
     "start_time": "2024-05-15T00:13:17.327065Z"
    }
   },
   "id": "17c61a8a9f87035c",
   "execution_count": 108
  },
  {
   "cell_type": "code",
   "outputs": [
    {
     "data": {
      "text/plain": "('./roberta-model-b/tokenizer_config.json',\n './roberta-model-b/special_tokens_map.json',\n './roberta-model-b/vocab.json',\n './roberta-model-b/merges.txt',\n './roberta-model-b/added_tokens.json',\n './roberta-model-b/tokenizer.json')"
     },
     "execution_count": 110,
     "metadata": {},
     "output_type": "execute_result"
    }
   ],
   "source": [
    "# Save the model and tokenizer\n",
    "save_directory = \"./roberta-model-b\"\n",
    "\n",
    "model.save_pretrained(save_directory)\n",
    "tokenizer.save_pretrained(save_directory)"
   ],
   "metadata": {
    "collapsed": false,
    "ExecuteTime": {
     "end_time": "2024-05-15T00:15:35.955763Z",
     "start_time": "2024-05-15T00:15:34.157640Z"
    }
   },
   "id": "d7783c0846fde266",
   "execution_count": 110
  },
  {
   "cell_type": "code",
   "outputs": [],
   "source": [],
   "metadata": {
    "collapsed": false
   },
   "id": "fdb654f121342844"
  }
 ],
 "metadata": {
  "kernelspec": {
   "display_name": "Python 3",
   "language": "python",
   "name": "python3"
  },
  "language_info": {
   "codemirror_mode": {
    "name": "ipython",
    "version": 2
   },
   "file_extension": ".py",
   "mimetype": "text/x-python",
   "name": "python",
   "nbconvert_exporter": "python",
   "pygments_lexer": "ipython2",
   "version": "2.7.6"
  }
 },
 "nbformat": 4,
 "nbformat_minor": 5
}
