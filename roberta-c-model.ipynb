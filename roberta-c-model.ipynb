{
 "cells": [
  {
   "cell_type": "code",
   "execution_count": 1,
   "id": "initial_id",
   "metadata": {
    "collapsed": true,
    "ExecuteTime": {
     "end_time": "2024-05-14T22:59:10.046452Z",
     "start_time": "2024-05-14T22:59:08.742923Z"
    }
   },
   "outputs": [],
   "source": [
    "# Import necessary libraries\n",
    "\n",
    "import pandas as pd\n",
    "from sklearn.model_selection import train_test_split\n",
    "import torch"
   ]
  },
  {
   "cell_type": "code",
   "outputs": [],
   "source": [
    "# Load data and set up device\n",
    "\n",
    "data = pd.read_csv('./data/edos-labelled-annotations.csv')\n",
    "device = \"cuda\" if torch.cuda.is_available() else \"mps\" if torch.backends.mps.is_available() else \"cpu\""
   ],
   "metadata": {
    "collapsed": false,
    "ExecuteTime": {
     "end_time": "2024-05-14T22:59:35.120397Z",
     "start_time": "2024-05-14T22:59:35.023389Z"
    }
   },
   "id": "5de1395e75ae6e44",
   "execution_count": 4
  },
  {
   "cell_type": "code",
   "outputs": [],
   "source": [
    "# Filter data to include only sexist texts and map vector labels to numerical values\n",
    "\n",
    "sexist_data = data[data['label_sexist'] == 'sexist']\n",
    "\n",
    "# Create a mapping for vector labels\n",
    "unique_labels = sexist_data['label_vector'].unique()\n",
    "label_mapping = {label: idx for idx, label in enumerate(unique_labels)}\n",
    "\n",
    "# Extract text and labels, and map labels to numerical values\n",
    "text = list(sexist_data['text'])\n",
    "labels = sexist_data['label_vector'].map(label_mapping).values\n",
    "labels = torch.tensor(labels, dtype=torch.long)"
   ],
   "metadata": {
    "collapsed": false,
    "ExecuteTime": {
     "end_time": "2024-05-14T22:59:50.022736Z",
     "start_time": "2024-05-14T22:59:50.010438Z"
    }
   },
   "id": "44747c2df11a32b7",
   "execution_count": 7
  },
  {
   "cell_type": "code",
   "outputs": [],
   "source": [
    "# Split data into training, validation, and test sets\n",
    "\n",
    "train_text, temp_text, train_labels, temp_labels = train_test_split(text, labels, test_size=0.8, random_state=42)\n",
    "valid_text, test_text, valid_labels, test_labels = train_test_split(temp_text, temp_labels, test_size=0.5, random_state=42)"
   ],
   "metadata": {
    "collapsed": false,
    "ExecuteTime": {
     "end_time": "2024-05-14T22:59:53.565189Z",
     "start_time": "2024-05-14T22:59:53.554114Z"
    }
   },
   "id": "b6a25fb0724d6595",
   "execution_count": 8
  },
  {
   "cell_type": "code",
   "outputs": [
    {
     "name": "stderr",
     "output_type": "stream",
     "text": [
      "Some weights of RobertaForSequenceClassification were not initialized from the model checkpoint at roberta-base and are newly initialized: ['classifier.dense.bias', 'classifier.dense.weight', 'classifier.out_proj.bias', 'classifier.out_proj.weight']\n",
      "You should probably TRAIN this model on a down-stream task to be able to use it for predictions and inference.\n"
     ]
    }
   ],
   "source": [
    "#  Load RoBERTa tokenizer and model\n",
    "\n",
    "from transformers import AutoTokenizer, RobertaForSequenceClassification\n",
    "\n",
    "tokenizer = AutoTokenizer.from_pretrained(\"roberta-base\")\n",
    "model = RobertaForSequenceClassification.from_pretrained(\"roberta-base\", num_labels=len(label_mapping))\n",
    "\n",
    "# Move model to the appropriate device (GPU, MPS, or CPU)\n",
    "model = model.to(device)"
   ],
   "metadata": {
    "collapsed": false,
    "ExecuteTime": {
     "end_time": "2024-05-14T22:59:57.231374Z",
     "start_time": "2024-05-14T22:59:54.533298Z"
    }
   },
   "id": "91fe50739aa8bcc3",
   "execution_count": 9
  },
  {
   "cell_type": "code",
   "outputs": [],
   "source": [
    "# Tokenize the data\n",
    "\n",
    "tokenized_train = tokenizer(train_text, truncation=True, padding=True, return_tensors=\"pt\")\n",
    "tokenized_valid = tokenizer(valid_text, truncation=True, padding=True, return_tensors=\"pt\")\n",
    "tokenized_test = tokenizer(test_text, truncation=True, padding=True, return_tensors=\"pt\")"
   ],
   "metadata": {
    "collapsed": false,
    "ExecuteTime": {
     "end_time": "2024-05-14T22:59:59.148085Z",
     "start_time": "2024-05-14T22:59:58.524177Z"
    }
   },
   "id": "da013968f0f12f9",
   "execution_count": 10
  },
  {
   "cell_type": "code",
   "outputs": [],
   "source": [
    "# Define a custom dataset class\n",
    "\n",
    "class CustomDataset(torch.utils.data.Dataset):\n",
    "    def __init__(self, encodings, labels, device):\n",
    "        self.encodings = encodings\n",
    "        self.labels = labels\n",
    "        self.device = device\n",
    "\n",
    "    def __getitem__(self, idx):\n",
    "        item = {key: torch.tensor(val[idx], device=self.device) for key, val in self.encodings.items()}\n",
    "        item['labels'] = torch.tensor(self.labels[idx], device=self.device)\n",
    "        return item\n",
    "\n",
    "    def __len__(self):\n",
    "        return len(self.labels)\n",
    "\n",
    "# Create dataset instances for training, validation, and testing\n",
    "train_data = CustomDataset(tokenized_train, train_labels, device)\n",
    "valid_data = CustomDataset(tokenized_valid, valid_labels, device)\n",
    "test_data = CustomDataset(tokenized_test, test_labels, device)\n"
   ],
   "metadata": {
    "collapsed": false,
    "ExecuteTime": {
     "end_time": "2024-05-14T22:59:59.729875Z",
     "start_time": "2024-05-14T22:59:59.724674Z"
    }
   },
   "id": "7874cbf99e28dfd7",
   "execution_count": 11
  },
  {
   "cell_type": "code",
   "outputs": [],
   "source": [
    "# Create data loaders\n",
    "from torch.utils.data import DataLoader\n",
    "\n",
    "train_dataloader = DataLoader(train_data, batch_size=8, shuffle=True)\n",
    "valid_dataloader = DataLoader(valid_data, batch_size=8, shuffle=False)\n",
    "test_dataloader = DataLoader(test_data, batch_size=8, shuffle=True)"
   ],
   "metadata": {
    "collapsed": false,
    "ExecuteTime": {
     "end_time": "2024-05-14T23:00:01.405805Z",
     "start_time": "2024-05-14T23:00:01.401918Z"
    }
   },
   "id": "7d4a08fd7c657092",
   "execution_count": 12
  },
  {
   "cell_type": "code",
   "outputs": [
    {
     "name": "stderr",
     "output_type": "stream",
     "text": [
      "huggingface/tokenizers: The current process just got forked, after parallelism has already been used. Disabling parallelism to avoid deadlocks...\n",
      "To disable this warning, you can either:\n",
      "\t- Avoid using `tokenizers` before the fork if possible\n",
      "\t- Explicitly set the environment variable TOKENIZERS_PARALLELISM=(true | false)\n",
      "Epoch 1/5 Training:   0%|          | 0/384 [00:00<?, ?it/s]/var/folders/pp/f9mc48911vs717rh_h3szgx80000gn/T/ipykernel_5760/2187453862.py:8: UserWarning: To copy construct from a tensor, it is recommended to use sourceTensor.clone().detach() or sourceTensor.clone().detach().requires_grad_(True), rather than torch.tensor(sourceTensor).\n",
      "  item = {key: torch.tensor(val[idx], device=self.device) for key, val in self.encodings.items()}\n",
      "/var/folders/pp/f9mc48911vs717rh_h3szgx80000gn/T/ipykernel_5760/2187453862.py:9: UserWarning: To copy construct from a tensor, it is recommended to use sourceTensor.clone().detach() or sourceTensor.clone().detach().requires_grad_(True), rather than torch.tensor(sourceTensor).\n",
      "  item['labels'] = torch.tensor(self.labels[idx], device=self.device)\n",
      "                                                                                  \r"
     ]
    },
    {
     "name": "stdout",
     "output_type": "stream",
     "text": [
      "Epoch 1/5 - Train Loss: 2.0222, Val Loss: 1.7524\n"
     ]
    },
    {
     "name": "stderr",
     "output_type": "stream",
     "text": [
      "                                                                                  \r"
     ]
    },
    {
     "name": "stdout",
     "output_type": "stream",
     "text": [
      "Epoch 2/5 - Train Loss: 1.6767, Val Loss: 1.6109\n"
     ]
    },
    {
     "name": "stderr",
     "output_type": "stream",
     "text": [
      "                                                                                  \r"
     ]
    },
    {
     "name": "stdout",
     "output_type": "stream",
     "text": [
      "Epoch 3/5 - Train Loss: 1.4240, Val Loss: 1.5815\n"
     ]
    },
    {
     "name": "stderr",
     "output_type": "stream",
     "text": [
      "                                                                                  \r"
     ]
    },
    {
     "name": "stdout",
     "output_type": "stream",
     "text": [
      "Epoch 4/5 - Train Loss: 1.3824, Val Loss: 1.5824\n"
     ]
    },
    {
     "name": "stderr",
     "output_type": "stream",
     "text": [
      "                                                                                  \r"
     ]
    },
    {
     "name": "stdout",
     "output_type": "stream",
     "text": [
      "Epoch 5/5 - Train Loss: 1.3410, Val Loss: 1.5779\n"
     ]
    }
   ],
   "source": [
    "# Train the model\n",
    "\n",
    "from tqdm import tqdm\n",
    "import torch\n",
    "\n",
    "epochs = 5\n",
    "learning_rate = 1e-5\n",
    "\n",
    "optimizer = torch.optim.AdamW(model.parameters(), lr=learning_rate)\n",
    "scheduler = torch.optim.lr_scheduler.StepLR(optimizer, step_size=2, gamma=0.1)\n",
    "\n",
    "for epoch in range(epochs):\n",
    "    model.train()\n",
    "\n",
    "    total_train_loss = 0\n",
    "    num_batches_train = 0\n",
    "\n",
    "    batch_progress = tqdm(train_dataloader, desc=f'Epoch {epoch + 1}/{epochs} Training', leave=False)\n",
    "\n",
    "    for batch in batch_progress:\n",
    "        inputs = {key: value.to(device) if key != 'labels' else value for key, value in batch.items()}\n",
    "        labels = batch['labels'].to(device)\n",
    "\n",
    "        optimizer.zero_grad()\n",
    "\n",
    "        outputs = model(**inputs)\n",
    "        loss = outputs.loss\n",
    "        loss.backward()\n",
    "\n",
    "        torch.nn.utils.clip_grad_norm_(model.parameters(), max_norm=1.0)\n",
    "        optimizer.step()\n",
    "\n",
    "        total_train_loss += loss.item()\n",
    "        num_batches_train += 1\n",
    "        batch_progress.set_postfix(loss=f'{total_train_loss / num_batches_train:.4f}')\n",
    "\n",
    "    average_train_loss = total_train_loss / num_batches_train\n",
    "\n",
    "    total_validation_loss = 0\n",
    "    num_batches_validation = 0\n",
    "    model.eval()\n",
    "\n",
    "    for batch in valid_dataloader:\n",
    "        with torch.no_grad():\n",
    "            inputs = {key: value.to(device) for key, value in batch.items()}\n",
    "            outputs = model(**inputs)\n",
    "            loss = outputs.loss\n",
    "\n",
    "            total_validation_loss += loss.item()\n",
    "            num_batches_validation += 1\n",
    "\n",
    "    average_validation_loss = total_validation_loss / num_batches_validation\n",
    "\n",
    "    print(f'Epoch {epoch + 1}/{epochs} - Train Loss: {average_train_loss:.4f}, Val Loss: {average_validation_loss:.4f}')\n",
    "\n",
    "    scheduler.step()"
   ],
   "metadata": {
    "collapsed": false,
    "ExecuteTime": {
     "end_time": "2024-05-14T23:11:52.549230Z",
     "start_time": "2024-05-14T23:00:02.428365Z"
    }
   },
   "id": "e4605bfbb4f7e750",
   "execution_count": 13
  },
  {
   "cell_type": "code",
   "outputs": [
    {
     "name": "stderr",
     "output_type": "stream",
     "text": [
      "Testing:   0%|          | 0/767 [00:00<?, ?it/s]/var/folders/pp/f9mc48911vs717rh_h3szgx80000gn/T/ipykernel_5760/2187453862.py:8: UserWarning: To copy construct from a tensor, it is recommended to use sourceTensor.clone().detach() or sourceTensor.clone().detach().requires_grad_(True), rather than torch.tensor(sourceTensor).\n",
      "  item = {key: torch.tensor(val[idx], device=self.device) for key, val in self.encodings.items()}\n",
      "/var/folders/pp/f9mc48911vs717rh_h3szgx80000gn/T/ipykernel_5760/2187453862.py:9: UserWarning: To copy construct from a tensor, it is recommended to use sourceTensor.clone().detach() or sourceTensor.clone().detach().requires_grad_(True), rather than torch.tensor(sourceTensor).\n",
      "  item['labels'] = torch.tensor(self.labels[idx], device=self.device)\n",
      "                                                          \r"
     ]
    },
    {
     "name": "stdout",
     "output_type": "stream",
     "text": [
      "Test Loss: 1.5639\n",
      "Accuracy: 0.4477\n"
     ]
    },
    {
     "data": {
      "text/plain": "<Figure size 640x480 with 2 Axes>",
      "image/png": "[encoded data removed]"
     },
     "metadata": {},
     "output_type": "display_data"
    }
   ],
   "source": [
    "# Test the model and evaluate performance\n",
    "\n",
    "import torch\n",
    "from tqdm import tqdm\n",
    "from sklearn.metrics import accuracy_score, confusion_matrix, ConfusionMatrixDisplay\n",
    "import matplotlib.pyplot as plt\n",
    "\n",
    "true_labels = []\n",
    "predicted_labels = []\n",
    "\n",
    "model.eval()\n",
    "\n",
    "total_test_loss = 0\n",
    "num_batches_test = 0\n",
    "\n",
    "test_progress_bar = tqdm(test_dataloader, desc=f'Testing', leave=False)\n",
    "\n",
    "for batch in test_progress_bar:\n",
    "    with torch.no_grad():\n",
    "        inputs = {key: value.to(device) for key, value in batch.items()}\n",
    "        outputs = model(**inputs)\n",
    "        loss = outputs.loss\n",
    "\n",
    "        total_test_loss += loss.item()\n",
    "        num_batches_test += 1\n",
    "\n",
    "        true_labels.extend(batch['labels'].cpu().numpy())\n",
    "        predicted_labels.extend(outputs.logits.argmax(dim=1).cpu().numpy())\n",
    "\n",
    "average_test_loss = total_test_loss / num_batches_test\n",
    "test_progress_bar.set_postfix({'test_loss': average_test_loss}, refresh=True)\n",
    "\n",
    "accuracy = accuracy_score(true_labels, predicted_labels)\n",
    "\n",
    "print(f'Test Loss: {average_test_loss:.4f}')\n",
    "print(f'Accuracy: {accuracy:.4f}')\n",
    "\n",
    "# Display confusion matrix\n",
    "cm = confusion_matrix(true_labels, predicted_labels)\n",
    "disp = ConfusionMatrixDisplay(confusion_matrix=cm)\n",
    "disp.plot(cmap=plt.cm.Blues)\n",
    "plt.title('Confusion Matrix')\n",
    "plt.show()"
   ],
   "metadata": {
    "collapsed": false,
    "ExecuteTime": {
     "end_time": "2024-05-14T23:14:59.881329Z",
     "start_time": "2024-05-14T23:14:17.670941Z"
    }
   },
   "id": "25ab9ed924a6c6d4",
   "execution_count": 14
  },
  {
   "cell_type": "code",
   "outputs": [
    {
     "data": {
      "text/plain": "('./roberta-model-c/tokenizer_config.json',\n './roberta-model-c/special_tokens_map.json',\n './roberta-model-c/vocab.json',\n './roberta-model-c/merges.txt',\n './roberta-model-c/added_tokens.json',\n './roberta-model-c/tokenizer.json')"
     },
     "execution_count": 15,
     "metadata": {},
     "output_type": "execute_result"
    }
   ],
   "source": [
    "# Save the model and tokenizer\n",
    "save_directory = \"./roberta-model-c\"\n",
    "\n",
    "model.save_pretrained(save_directory)\n",
    "tokenizer.save_pretrained(save_directory)"
   ],
   "metadata": {
    "collapsed": false,
    "ExecuteTime": {
     "end_time": "2024-05-14T23:15:48.858665Z",
     "start_time": "2024-05-14T23:15:48.115452Z"
    }
   },
   "id": "acf0274dc17957b0",
   "execution_count": 15
  },
  {
   "cell_type": "code",
   "outputs": [
    {
     "name": "stdout",
     "output_type": "stream",
     "text": [
      "{'2.2 aggressive and emotive attacks': 0, '2.3 dehumanising attacks & overt sexual objectification': 1, '2.1 descriptive attacks': 2, '3.1 casual use of gendered slurs, profanities, and insults': 3, '3.3 backhanded gendered compliments': 4, '3.2 immutable gender differences and gender stereotypes': 5, '4.2 supporting systemic discrimination against women as a group': 6, '1.2 incitement and encouragement of harm': 7, '1.1 threats of harm': 8, '3.4 condescending explanations or unwelcome advice': 9, '4.1 supporting mistreatment of individual women': 10}\n"
     ]
    }
   ],
   "source": [
    "print(label_mapping)"
   ],
   "metadata": {
    "collapsed": false,
    "ExecuteTime": {
     "end_time": "2024-05-14T23:17:01.208121Z",
     "start_time": "2024-05-14T23:17:01.203653Z"
    }
   },
   "id": "2b73ce5d6154f0df",
   "execution_count": 16
  },
  {
   "cell_type": "code",
   "outputs": [],
   "source": [],
   "metadata": {
    "collapsed": false
   },
   "id": "329fa0f0028b583a"
  }
 ],
 "metadata": {
  "kernelspec": {
   "display_name": "Python 3",
   "language": "python",
   "name": "python3"
  },
  "language_info": {
   "codemirror_mode": {
    "name": "ipython",
    "version": 2
   },
   "file_extension": ".py",
   "mimetype": "text/x-python",
   "name": "python",
   "nbconvert_exporter": "python",
   "pygments_lexer": "ipython2",
   "version": "2.7.6"
  }
 },
 "nbformat": 4,
 "nbformat_minor": 5
}
