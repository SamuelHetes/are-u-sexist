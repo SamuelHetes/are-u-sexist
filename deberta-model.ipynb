{
 "cells": [
  {
   "cell_type": "code",
   "execution_count": 25,
   "id": "initial_id",
   "metadata": {
    "collapsed": true,
    "ExecuteTime": {
     "end_time": "2024-05-14T16:36:32.456667Z",
     "start_time": "2024-05-14T16:36:32.451388Z"
    }
   },
   "outputs": [],
   "source": [
    "# Import necessary libraries\n",
    "\n",
    "import pandas as pd\n",
    "from sklearn.model_selection import train_test_split\n",
    "import torch"
   ]
  },
  {
   "cell_type": "code",
   "outputs": [],
   "source": [
    "# Load data and set up device\n",
    "\n",
    "data = pd.read_csv('./data/edos-labelled-annotations.csv', nrows=20000)\n",
    "device = \"cuda\" if torch.cuda.is_available() else \"mps\" if torch.backends.mps.is_available() else \"cpu\"\n",
    "\n",
    "# Extract text and labels, and map labels to numerical values\n",
    "text = list(data['text'])\n",
    "labels = data['label_sexist'].map({'sexist': 1, 'not sexist': 0}).values\n",
    "labels = torch.tensor(labels, dtype=torch.long)\n",
    "\n",
    "# Split data into training, validation, and test sets\n",
    "train_text, temp_text, train_labels, temp_labels = train_test_split(text, labels, test_size=0.8, random_state=42)\n",
    "valid_text, test_text, valid_labels, test_labels = train_test_split(temp_text, temp_labels, test_size=0.5, random_state=42)\n"
   ],
   "metadata": {
    "collapsed": false,
    "ExecuteTime": {
     "end_time": "2024-05-14T16:36:33.182768Z",
     "start_time": "2024-05-14T16:36:33.131693Z"
    }
   },
   "id": "115c41e4b2c49ce",
   "execution_count": 26
  },
  {
   "cell_type": "code",
   "outputs": [
    {
     "name": "stderr",
     "output_type": "stream",
     "text": [
      "Some weights of DebertaForSequenceClassification were not initialized from the model checkpoint at microsoft/deberta-base and are newly initialized: ['classifier.bias', 'classifier.weight', 'pooler.dense.bias', 'pooler.dense.weight']\n",
      "You should probably TRAIN this model on a down-stream task to be able to use it for predictions and inference.\n"
     ]
    }
   ],
   "source": [
    "# Load DeBERTa tokenizer and model\n",
    "\n",
    "from transformers import AutoTokenizer, DebertaForSequenceClassification\n",
    "\n",
    "tokenizer = AutoTokenizer.from_pretrained(\"microsoft/deberta-base\")\n",
    "model = DebertaForSequenceClassification.from_pretrained(\"microsoft/deberta-base\", num_labels=2)\n",
    "\n",
    "# Move model to the appropriate device (GPU or CPU)\n",
    "model = model.to(device)"
   ],
   "metadata": {
    "collapsed": false,
    "ExecuteTime": {
     "end_time": "2024-05-14T16:36:35.730593Z",
     "start_time": "2024-05-14T16:36:33.823539Z"
    }
   },
   "id": "ca97114eaa751ff9",
   "execution_count": 27
  },
  {
   "cell_type": "code",
   "outputs": [],
   "source": [
    "# Tokenize the data\n",
    "\n",
    "tokenized_train = tokenizer(train_text, truncation=True, padding=True, return_tensors=\"pt\")\n",
    "tokenized_valid = tokenizer(valid_text, truncation=True, padding=True, return_tensors=\"pt\")\n",
    "tokenized_test = tokenizer(test_text, truncation=True, padding=True, return_tensors=\"pt\")"
   ],
   "metadata": {
    "collapsed": false,
    "ExecuteTime": {
     "end_time": "2024-05-14T16:36:37.349924Z",
     "start_time": "2024-05-14T16:36:36.336449Z"
    }
   },
   "id": "c8f9165a05a8a7ef",
   "execution_count": 28
  },
  {
   "cell_type": "code",
   "outputs": [],
   "source": [
    "# Define a custom dataset class\n",
    "\n",
    "class CustomDataset(torch.utils.data.Dataset):\n",
    "    def __init__(self, encodings, labels, device):\n",
    "        self.encodings = encodings\n",
    "        self.labels = labels\n",
    "        self.device = device\n",
    "\n",
    "    def __getitem__(self, idx):\n",
    "        item = {key: torch.tensor(val[idx], device=self.device) for key, val in self.encodings.items()}\n",
    "        item['labels'] = torch.tensor(self.labels[idx],\n",
    "                                      device=self.device)\n",
    "        return item\n",
    "\n",
    "    def __len__(self):\n",
    "        return len(self.labels)\n",
    "\n",
    "# Create dataset instances for training, validation, and testing\n",
    "train_data = CustomDataset(tokenized_train, train_labels, device)\n",
    "valid_data = CustomDataset(tokenized_valid, valid_labels, device)\n",
    "test_data = CustomDataset(tokenized_test, test_labels, device)"
   ],
   "metadata": {
    "collapsed": false,
    "ExecuteTime": {
     "end_time": "2024-05-14T16:36:37.959248Z",
     "start_time": "2024-05-14T16:36:37.956672Z"
    }
   },
   "id": "44a305870b1da118",
   "execution_count": 29
  },
  {
   "cell_type": "code",
   "outputs": [],
   "source": [
    "# Create data loaders\n",
    "\n",
    "from torch.utils.data import DataLoader\n",
    "\n",
    "train_dataloader = DataLoader(train_data, batch_size=8, shuffle=True)\n",
    "valid_dataloader = DataLoader(valid_data, batch_size=8, shuffle=False)\n",
    "test_dataloader = DataLoader(test_data, batch_size=8, shuffle=True)"
   ],
   "metadata": {
    "collapsed": false,
    "ExecuteTime": {
     "end_time": "2024-05-14T16:36:39.665792Z",
     "start_time": "2024-05-14T16:36:39.621443Z"
    }
   },
   "id": "9e81e2f1944c7b5e",
   "execution_count": 30
  },
  {
   "cell_type": "code",
   "outputs": [
    {
     "name": "stderr",
     "output_type": "stream",
     "text": [
      "Epoch 1/5 Training:   0%|          | 0/500 [00:00<?, ?it/s]/var/folders/pp/f9mc48911vs717rh_h3szgx80000gn/T/ipykernel_91711/4218890497.py:8: UserWarning: To copy construct from a tensor, it is recommended to use sourceTensor.clone().detach() or sourceTensor.clone().detach().requires_grad_(True), rather than torch.tensor(sourceTensor).\n",
      "  item = {key: torch.tensor(val[idx], device=self.device) for key, val in self.encodings.items()}\n",
      "/var/folders/pp/f9mc48911vs717rh_h3szgx80000gn/T/ipykernel_91711/4218890497.py:9: UserWarning: To copy construct from a tensor, it is recommended to use sourceTensor.clone().detach() or sourceTensor.clone().detach().requires_grad_(True), rather than torch.tensor(sourceTensor).\n",
      "  item['labels'] = torch.tensor(self.labels[idx],\n",
      "                                                                                  \r"
     ]
    },
    {
     "name": "stdout",
     "output_type": "stream",
     "text": [
      "Epoch 1/5 - Train Loss: 0.4631, Val Loss: 0.4147\n"
     ]
    },
    {
     "name": "stderr",
     "output_type": "stream",
     "text": [
      "                                                                                  \r"
     ]
    },
    {
     "name": "stdout",
     "output_type": "stream",
     "text": [
      "Epoch 2/5 - Train Loss: 0.3550, Val Loss: 0.4705\n"
     ]
    },
    {
     "name": "stderr",
     "output_type": "stream",
     "text": [
      "                                                                                  \r"
     ]
    },
    {
     "name": "stdout",
     "output_type": "stream",
     "text": [
      "Epoch 3/5 - Train Loss: 0.2019, Val Loss: 0.5731\n"
     ]
    },
    {
     "name": "stderr",
     "output_type": "stream",
     "text": [
      "                                                                                  \r"
     ]
    },
    {
     "name": "stdout",
     "output_type": "stream",
     "text": [
      "Epoch 4/5 - Train Loss: 0.2107, Val Loss: 0.6498\n"
     ]
    },
    {
     "name": "stderr",
     "output_type": "stream",
     "text": [
      "                                                                                  \r"
     ]
    },
    {
     "name": "stdout",
     "output_type": "stream",
     "text": [
      "Epoch 5/5 - Train Loss: 0.1866, Val Loss: 0.6581\n"
     ]
    }
   ],
   "source": [
    "# Train the model\n",
    "\n",
    "from tqdm import tqdm\n",
    "import torch\n",
    "\n",
    "epochs = 5\n",
    "learning_rate = 1e-5\n",
    "\n",
    "optimizer = torch.optim.AdamW(model.parameters(), lr=learning_rate)\n",
    "scheduler = torch.optim.lr_scheduler.StepLR(optimizer, step_size=2, gamma=0.1)\n",
    "\n",
    "for epoch in range(epochs):\n",
    "    model.train()\n",
    "\n",
    "    total_train_loss = 0\n",
    "    num_batches_train = 0\n",
    "\n",
    "    batch_progress = tqdm(train_dataloader, desc=f'Epoch {epoch + 1}/{epochs} Training', leave=False)\n",
    "\n",
    "    for batch in batch_progress:\n",
    "        inputs = {key: value.to(device) if key != 'labels' else value for key, value in batch.items()}\n",
    "        labels = batch['labels'].to(device)\n",
    "\n",
    "        optimizer.zero_grad()\n",
    "\n",
    "        outputs = model(**inputs)\n",
    "        loss = outputs.loss\n",
    "        loss.backward()\n",
    "\n",
    "        torch.nn.utils.clip_grad_norm_(model.parameters(), max_norm=1.0)\n",
    "        optimizer.step()\n",
    "\n",
    "        total_train_loss += loss.item()\n",
    "        num_batches_train += 1\n",
    "        batch_progress.set_postfix(loss=f'{total_train_loss / num_batches_train:.4f}')\n",
    "\n",
    "    average_train_loss = total_train_loss / num_batches_train\n",
    "\n",
    "    total_validation_loss = 0\n",
    "    num_batches_validation = 0\n",
    "    model.eval()\n",
    "\n",
    "    for batch in valid_dataloader:\n",
    "        with torch.no_grad():\n",
    "            inputs = {key: value.to(device) for key, value in batch.items()}\n",
    "            outputs = model(**inputs)\n",
    "            loss = outputs.loss\n",
    "\n",
    "            total_validation_loss += loss.item()\n",
    "            num_batches_validation += 1\n",
    "\n",
    "    average_validation_loss = total_validation_loss / num_batches_validation\n",
    "\n",
    "    print(f'Epoch {epoch + 1}/{epochs} - Train Loss: {average_train_loss:.4f}, Val Loss: {average_validation_loss:.4f}')\n",
    "\n",
    "    scheduler.step()\n"
   ],
   "metadata": {
    "collapsed": false,
    "ExecuteTime": {
     "end_time": "2024-05-14T17:01:14.756193Z",
     "start_time": "2024-05-14T16:36:40.805353Z"
    }
   },
   "id": "63f55b3fa8b551e0",
   "execution_count": 31
  },
  {
   "cell_type": "code",
   "outputs": [
    {
     "name": "stderr",
     "output_type": "stream",
     "text": [
      "Testing:   0%|          | 0/1000 [00:00<?, ?it/s]/var/folders/pp/f9mc48911vs717rh_h3szgx80000gn/T/ipykernel_91711/4218890497.py:8: UserWarning: To copy construct from a tensor, it is recommended to use sourceTensor.clone().detach() or sourceTensor.clone().detach().requires_grad_(True), rather than torch.tensor(sourceTensor).\n",
      "  item = {key: torch.tensor(val[idx], device=self.device) for key, val in self.encodings.items()}\n",
      "/var/folders/pp/f9mc48911vs717rh_h3szgx80000gn/T/ipykernel_91711/4218890497.py:9: UserWarning: To copy construct from a tensor, it is recommended to use sourceTensor.clone().detach() or sourceTensor.clone().detach().requires_grad_(True), rather than torch.tensor(sourceTensor).\n",
      "  item['labels'] = torch.tensor(self.labels[idx],\n",
      "                                                            "
     ]
    },
    {
     "name": "stdout",
     "output_type": "stream",
     "text": [
      "Test Loss: 0.6482\n",
      "Accuracy: 0.8449\n"
     ]
    },
    {
     "name": "stderr",
     "output_type": "stream",
     "text": [
      "\r"
     ]
    },
    {
     "data": {
      "text/plain": "<Figure size 640x480 with 2 Axes>",
      "image/png": "[encoded data removed]"
     },
     "metadata": {},
     "output_type": "display_data"
    }
   ],
   "source": [
    "# Test the model and evaluate performance\n",
    "\n",
    "import torch\n",
    "from tqdm import tqdm\n",
    "from sklearn.metrics import accuracy_score, confusion_matrix, ConfusionMatrixDisplay\n",
    "import matplotlib.pyplot as plt\n",
    "\n",
    "true_labels = []\n",
    "predicted_labels = []\n",
    "\n",
    "model.eval()\n",
    "\n",
    "total_test_loss = 0\n",
    "num_batches_test = 0\n",
    "\n",
    "test_progress_bar = tqdm(test_dataloader, desc=f'Testing', leave=False)\n",
    "\n",
    "for batch in test_progress_bar:\n",
    "    with torch.no_grad():\n",
    "        inputs = {key: value.to(device) for key, value in batch.items()}\n",
    "        outputs = model(**inputs)\n",
    "        loss = outputs.loss\n",
    "\n",
    "        total_test_loss += loss.item()\n",
    "        num_batches_test += 1\n",
    "\n",
    "        true_labels.extend(batch['labels'].cpu().numpy())\n",
    "        predicted_labels.extend(outputs.logits.argmax(dim=1).cpu().numpy())\n",
    "\n",
    "average_test_loss = total_test_loss / num_batches_test\n",
    "test_progress_bar.set_postfix({'test_loss': average_test_loss}, refresh=True)\n",
    "\n",
    "accuracy = accuracy_score(true_labels, predicted_labels)\n",
    "\n",
    "print(f'Test Loss: {average_test_loss:.4f}')\n",
    "print(f'Accuracy: {accuracy:.4f}')\n",
    "\n",
    "# Display confusion matrix\n",
    "cm = confusion_matrix(true_labels, predicted_labels)\n",
    "disp = ConfusionMatrixDisplay(confusion_matrix=cm)\n",
    "disp.plot(cmap=plt.cm.Blues)\n",
    "plt.title('Confusion Matrix')\n",
    "plt.show()\n"
   ],
   "metadata": {
    "collapsed": false,
    "ExecuteTime": {
     "end_time": "2024-05-14T17:04:03.956535Z",
     "start_time": "2024-05-14T17:02:15.945502Z"
    }
   },
   "id": "5b597031b90726dd",
   "execution_count": 32
  },
  {
   "cell_type": "code",
   "outputs": [
    {
     "data": {
      "text/plain": "('./deberta-model/tokenizer_config.json',\n './deberta-model/special_tokens_map.json',\n './deberta-model/vocab.json',\n './deberta-model/merges.txt',\n './deberta-model/added_tokens.json',\n './deberta-model/tokenizer.json')"
     },
     "execution_count": 35,
     "metadata": {},
     "output_type": "execute_result"
    }
   ],
   "source": [
    "# Save the model and tokenizer\n",
    "\n",
    "save_directory = \"./deberta-model\"\n",
    "\n",
    "model.save_pretrained(save_directory)\n",
    "tokenizer.save_pretrained(save_directory)"
   ],
   "metadata": {
    "collapsed": false,
    "ExecuteTime": {
     "end_time": "2024-05-14T17:06:31.272503Z",
     "start_time": "2024-05-14T17:06:30.120297Z"
    }
   },
   "id": "bec41730255b770a",
   "execution_count": 35
  },
  {
   "cell_type": "code",
   "outputs": [],
   "source": [],
   "metadata": {
    "collapsed": false
   },
   "id": "36a6b32bd16b176d"
  }
 ],
 "metadata": {
  "kernelspec": {
   "display_name": "Python 3",
   "language": "python",
   "name": "python3"
  },
  "language_info": {
   "codemirror_mode": {
    "name": "ipython",
    "version": 2
   },
   "file_extension": ".py",
   "mimetype": "text/x-python",
   "name": "python",
   "nbconvert_exporter": "python",
   "pygments_lexer": "ipython2",
   "version": "2.7.6"
  }
 },
 "nbformat": 4,
 "nbformat_minor": 5
}
