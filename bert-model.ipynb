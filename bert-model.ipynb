{
 "cells": [
  {
   "cell_type": "code",
   "execution_count": 2,
   "id": "initial_id",
   "metadata": {
    "collapsed": true,
    "ExecuteTime": {
     "end_time": "2024-05-14T19:33:18.636750Z",
     "start_time": "2024-05-14T19:33:18.215288Z"
    }
   },
   "outputs": [],
   "source": [
    "# Import necessary libraries\n",
    "\n",
    "import pandas as pd\n",
    "import torch\n",
    "from sklearn.model_selection import train_test_split"
   ]
  },
  {
   "cell_type": "code",
   "outputs": [],
   "source": [
    "# Load data and set up device\n",
    "\n",
    "data = pd.read_csv('./data/edos-labelled-annotations.csv', nrows=20000)\n",
    "device = \"cuda\" if torch.cuda.is_available() else \"mps\" if torch.backends.mps.is_available() else \"cpu\"\n",
    "\n",
    "# Extract text and labels, and map labels to numerical values\n",
    "text = list(data['text'])\n",
    "labels = data['label_sexist'].map({'sexist': 1, 'not sexist': 0}).values\n",
    "labels = torch.tensor(labels, dtype=torch.long)\n",
    "\n",
    "# Split data into training, validation, and test sets\n",
    "train_text, temp_text, train_labels, temp_labels = train_test_split(text, labels, test_size=0.8, random_state=42)\n",
    "valid_text, test_text, valid_labels, test_labels = train_test_split(temp_text, temp_labels, test_size=0.5, random_state=42)"
   ],
   "metadata": {
    "collapsed": false,
    "ExecuteTime": {
     "end_time": "2024-05-14T19:33:19.431932Z",
     "start_time": "2024-05-14T19:33:19.283896Z"
    }
   },
   "id": "4788f27d27c8d643",
   "execution_count": 3
  },
  {
   "cell_type": "code",
   "outputs": [
    {
     "name": "stderr",
     "output_type": "stream",
     "text": [
      "Some weights of BertForSequenceClassification were not initialized from the model checkpoint at bert-base-uncased and are newly initialized: ['classifier.bias', 'classifier.weight']\n",
      "You should probably TRAIN this model on a down-stream task to be able to use it for predictions and inference.\n"
     ]
    }
   ],
   "source": [
    "#Load BERT tokenizer and model\n",
    "from transformers import BertTokenizer, BertForSequenceClassification\n",
    "\n",
    "tokenizer = BertTokenizer.from_pretrained(\"bert-base-uncased\")\n",
    "model = BertForSequenceClassification.from_pretrained(\"bert-base-uncased\", num_labels=2)\n",
    "\n",
    "# Move model to the appropriate device (GPU or CPU)\n",
    "model = model.to(device)"
   ],
   "metadata": {
    "collapsed": false,
    "ExecuteTime": {
     "end_time": "2024-05-14T19:33:23.842170Z",
     "start_time": "2024-05-14T19:33:21.262734Z"
    }
   },
   "id": "8c9afb5a58eded73",
   "execution_count": 4
  },
  {
   "cell_type": "code",
   "outputs": [],
   "source": [
    "# Tokenize the data\n",
    "\n",
    "tokenized_train = tokenizer(train_text, truncation=True, padding=True, return_tensors=\"pt\")\n",
    "tokenized_valid = tokenizer(valid_text, truncation=True, padding=True, return_tensors=\"pt\")\n",
    "tokenized_test = tokenizer(test_text, truncation=True, padding=True, return_tensors=\"pt\")"
   ],
   "metadata": {
    "collapsed": false,
    "ExecuteTime": {
     "end_time": "2024-05-14T19:33:28.566216Z",
     "start_time": "2024-05-14T19:33:25.089903Z"
    }
   },
   "id": "175b8a50114af022",
   "execution_count": 5
  },
  {
   "cell_type": "code",
   "outputs": [],
   "source": [
    "# Define a custom dataset class\n",
    "\n",
    "class CustomDataset(torch.utils.data.Dataset):\n",
    "    def __init__(self, encodings, labels, device):\n",
    "        self.encodings = encodings\n",
    "        self.labels = labels\n",
    "        self.device = device\n",
    "\n",
    "    def __getitem__(self, idx):\n",
    "        item = {key: torch.tensor(val[idx], device=self.device) for key, val in self.encodings.items()}\n",
    "        item['labels'] = torch.tensor(self.labels[idx],\n",
    "                                      device=self.device) \n",
    "        return item\n",
    "\n",
    "    def __len__(self):\n",
    "        return len(self.labels)\n",
    "\n",
    "# Create dataset instances for training, validation, and testing\n",
    "\n",
    "train_data = CustomDataset(tokenized_train, train_labels, device)\n",
    "valid_data = CustomDataset(tokenized_valid, valid_labels, device)\n",
    "test_data = CustomDataset(tokenized_test, test_labels, device)"
   ],
   "metadata": {
    "collapsed": false,
    "ExecuteTime": {
     "end_time": "2024-05-14T19:33:29.036054Z",
     "start_time": "2024-05-14T19:33:29.028105Z"
    }
   },
   "id": "e51e57ca0f135d41",
   "execution_count": 6
  },
  {
   "cell_type": "code",
   "outputs": [],
   "source": [
    "# Create data loaders\n",
    "\n",
    "from torch.utils.data import DataLoader\n",
    "\n",
    "train_dataloader = DataLoader(train_data, batch_size=8, shuffle=True)\n",
    "valid_dataloader = DataLoader(valid_data, batch_size=8, shuffle=False)\n",
    "test_dataloader = DataLoader(test_data, batch_size=8, shuffle=False)"
   ],
   "metadata": {
    "collapsed": false,
    "ExecuteTime": {
     "end_time": "2024-05-14T19:33:30.005878Z",
     "start_time": "2024-05-14T19:33:30.002368Z"
    }
   },
   "id": "93f740cf5a9a577a",
   "execution_count": 7
  },
  {
   "cell_type": "code",
   "outputs": [
    {
     "name": "stderr",
     "output_type": "stream",
     "text": [
      "Epoch 1/5 Training:   0%|          | 0/500 [00:00<?, ?it/s]/var/folders/pp/f9mc48911vs717rh_h3szgx80000gn/T/ipykernel_6040/1379483561.py:8: UserWarning: To copy construct from a tensor, it is recommended to use sourceTensor.clone().detach() or sourceTensor.clone().detach().requires_grad_(True), rather than torch.tensor(sourceTensor).\n",
      "  item = {key: torch.tensor(val[idx], device=self.device) for key, val in self.encodings.items()}\n",
      "/var/folders/pp/f9mc48911vs717rh_h3szgx80000gn/T/ipykernel_6040/1379483561.py:9: UserWarning: To copy construct from a tensor, it is recommended to use sourceTensor.clone().detach() or sourceTensor.clone().detach().requires_grad_(True), rather than torch.tensor(sourceTensor).\n",
      "  item['labels'] = torch.tensor(self.labels[idx],\n",
      "                                                                                  \r"
     ]
    },
    {
     "name": "stdout",
     "output_type": "stream",
     "text": [
      "Epoch 1/5 - Train Loss: 0.5013, Val Loss: 0.4778\n"
     ]
    },
    {
     "name": "stderr",
     "output_type": "stream",
     "text": [
      "                                                                                  \r"
     ]
    },
    {
     "name": "stdout",
     "output_type": "stream",
     "text": [
      "Epoch 2/5 - Train Loss: 0.3444, Val Loss: 0.4708\n"
     ]
    },
    {
     "name": "stderr",
     "output_type": "stream",
     "text": [
      "                                                                                  \r"
     ]
    },
    {
     "name": "stdout",
     "output_type": "stream",
     "text": [
      "Epoch 3/5 - Train Loss: 0.2049, Val Loss: 0.5324\n"
     ]
    },
    {
     "name": "stderr",
     "output_type": "stream",
     "text": [
      "                                                                                  \r"
     ]
    },
    {
     "name": "stdout",
     "output_type": "stream",
     "text": [
      "Epoch 4/5 - Train Loss: 0.1996, Val Loss: 0.6001\n"
     ]
    },
    {
     "name": "stderr",
     "output_type": "stream",
     "text": [
      "                                                                                  \r"
     ]
    },
    {
     "name": "stdout",
     "output_type": "stream",
     "text": [
      "Epoch 5/5 - Train Loss: 0.1836, Val Loss: 0.6066\n"
     ]
    }
   ],
   "source": [
    "# Train the model\n",
    "\n",
    "from tqdm import tqdm\n",
    "\n",
    "epochs = 5\n",
    "learning_rate = 1e-5\n",
    "\n",
    "optimizer = torch.optim.AdamW(model.parameters(), lr=learning_rate)\n",
    "scheduler = torch.optim.lr_scheduler.StepLR(optimizer, step_size=2, gamma=0.1)\n",
    "\n",
    "for epoch in range(epochs):\n",
    "    model.train()\n",
    "\n",
    "    total_train_loss = 0\n",
    "    num_batches_train = 0\n",
    "\n",
    "    batch_progress = tqdm(train_dataloader, desc=f'Epoch {epoch + 1}/{epochs} Training', leave=False)\n",
    "\n",
    "    for batch in batch_progress:\n",
    "        inputs = {key: value.to(device) if key != 'labels' else value for key, value in batch.items()}\n",
    "        labels = batch['labels'].to(device)\n",
    "\n",
    "        optimizer.zero_grad()\n",
    "\n",
    "        outputs = model(**inputs)\n",
    "        loss = outputs.loss\n",
    "        loss.backward()\n",
    "\n",
    "        torch.nn.utils.clip_grad_norm_(model.parameters(), max_norm=1.0)\n",
    "        optimizer.step()\n",
    "\n",
    "        total_train_loss += loss.item()\n",
    "        num_batches_train += 1\n",
    "        batch_progress.set_postfix(loss=f'{total_train_loss / num_batches_train:.4f}')\n",
    "\n",
    "    average_train_loss = total_train_loss / num_batches_train\n",
    "\n",
    "    total_validation_loss = 0\n",
    "    num_batches_validation = 0\n",
    "    model.eval()\n",
    "\n",
    "    for batch in valid_dataloader:\n",
    "        with torch.no_grad():\n",
    "            inputs = {key: value.to(device) for key, value in batch.items()}\n",
    "            outputs = model(**inputs)\n",
    "            loss = outputs.loss\n",
    "\n",
    "            total_validation_loss += loss.item()\n",
    "            num_batches_validation += 1\n",
    "\n",
    "    average_validation_loss = total_validation_loss / num_batches_validation\n",
    "\n",
    "    print(f'Epoch {epoch + 1}/{epochs} - Train Loss: {average_train_loss:.4f}, Val Loss: {average_validation_loss:.4f}')\n",
    "\n",
    "    scheduler.step()\n"
   ],
   "metadata": {
    "collapsed": false,
    "ExecuteTime": {
     "end_time": "2024-05-14T19:47:30.228942Z",
     "start_time": "2024-05-14T19:33:30.659410Z"
    }
   },
   "id": "3f61f555f3e504ac",
   "execution_count": 8
  },
  {
   "cell_type": "code",
   "outputs": [
    {
     "name": "stderr",
     "output_type": "stream",
     "text": [
      "Testing:   0%|          | 0/1000 [00:00<?, ?it/s]/var/folders/pp/f9mc48911vs717rh_h3szgx80000gn/T/ipykernel_6040/1379483561.py:8: UserWarning: To copy construct from a tensor, it is recommended to use sourceTensor.clone().detach() or sourceTensor.clone().detach().requires_grad_(True), rather than torch.tensor(sourceTensor).\n",
      "  item = {key: torch.tensor(val[idx], device=self.device) for key, val in self.encodings.items()}\n",
      "/var/folders/pp/f9mc48911vs717rh_h3szgx80000gn/T/ipykernel_6040/1379483561.py:9: UserWarning: To copy construct from a tensor, it is recommended to use sourceTensor.clone().detach() or sourceTensor.clone().detach().requires_grad_(True), rather than torch.tensor(sourceTensor).\n",
      "  item['labels'] = torch.tensor(self.labels[idx],\n",
      "                                                           \r"
     ]
    },
    {
     "name": "stdout",
     "output_type": "stream",
     "text": [
      "Test Loss: 0.5993\n",
      "Accuracy: 0.8401\n"
     ]
    },
    {
     "data": {
      "text/plain": "<Figure size 640x480 with 2 Axes>",
      "image/png": "[encoded data removed]"
     },
     "metadata": {},
     "output_type": "display_data"
    }
   ],
   "source": [
    "# Test the model and evaluate performance\n",
    "\n",
    "import torch\n",
    "from tqdm import tqdm\n",
    "from sklearn.metrics import accuracy_score, confusion_matrix, ConfusionMatrixDisplay\n",
    "import matplotlib.pyplot as plt\n",
    "\n",
    "true_labels = []\n",
    "predicted_labels = []\n",
    "\n",
    "model.eval()\n",
    "\n",
    "total_test_loss = 0\n",
    "num_batches_test = 0\n",
    "\n",
    "test_progress_bar = tqdm(test_dataloader, desc=f'Testing', leave=False)\n",
    "\n",
    "for batch in test_progress_bar:\n",
    "    with torch.no_grad():\n",
    "        inputs = {key: value.to(device) for key, value in batch.items()}\n",
    "        outputs = model(**inputs)\n",
    "        loss = outputs.loss\n",
    "\n",
    "        total_test_loss += loss.item()\n",
    "        num_batches_test += 1\n",
    "\n",
    "        true_labels.extend(batch['labels'].cpu().numpy())\n",
    "        predicted_labels.extend(outputs.logits.argmax(dim=1).cpu().numpy())\n",
    "\n",
    "average_test_loss = total_test_loss / num_batches_test\n",
    "test_progress_bar.set_postfix({'test_loss': average_test_loss}, refresh=True)\n",
    "\n",
    "accuracy = accuracy_score(true_labels, predicted_labels)\n",
    "\n",
    "print(f'Test Loss: {average_test_loss:.4f}')\n",
    "print(f'Accuracy: {accuracy:.4f}')\n",
    "\n",
    "# Display confusion matrix\n",
    "cm = confusion_matrix(true_labels, predicted_labels)\n",
    "disp = ConfusionMatrixDisplay(confusion_matrix=cm)\n",
    "disp.plot(cmap=plt.cm.Blues)\n",
    "plt.title('Confusion Matrix')\n",
    "plt.show()\n"
   ],
   "metadata": {
    "collapsed": false,
    "ExecuteTime": {
     "end_time": "2024-05-14T19:48:47.555308Z",
     "start_time": "2024-05-14T19:47:54.570204Z"
    }
   },
   "id": "ae5a081f6000d4e3",
   "execution_count": 9
  },
  {
   "cell_type": "code",
   "outputs": [
    {
     "data": {
      "text/plain": "('./bert-model/tokenizer_config.json',\n './bert-model/special_tokens_map.json',\n './bert-model/vocab.txt',\n './bert-model/added_tokens.json')"
     },
     "execution_count": 10,
     "metadata": {},
     "output_type": "execute_result"
    }
   ],
   "source": [
    "# Save the model and tokenizer\n",
    "\n",
    "save_directory = \"./bert-model\"\n",
    "\n",
    "model.save_pretrained(save_directory)\n",
    "tokenizer.save_pretrained(save_directory)"
   ],
   "metadata": {
    "collapsed": false,
    "ExecuteTime": {
     "end_time": "2024-05-14T19:50:00.381089Z",
     "start_time": "2024-05-14T19:49:59.756130Z"
    }
   },
   "id": "edc0f6fe0b52e762",
   "execution_count": 10
  },
  {
   "cell_type": "code",
   "outputs": [],
   "source": [],
   "metadata": {
    "collapsed": false
   },
   "id": "d558b59ef08fc508"
  }
 ],
 "metadata": {
  "kernelspec": {
   "display_name": "Python 3",
   "language": "python",
   "name": "python3"
  },
  "language_info": {
   "codemirror_mode": {
    "name": "ipython",
    "version": 2
   },
   "file_extension": ".py",
   "mimetype": "text/x-python",
   "name": "python",
   "nbconvert_exporter": "python",
   "pygments_lexer": "ipython2",
   "version": "2.7.6"
  }
 },
 "nbformat": 4,
 "nbformat_minor": 5
}
